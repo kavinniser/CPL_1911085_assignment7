{
 "cells": [
  {
   "cell_type": "code",
   "execution_count": 3,
   "id": "4d9529e2",
   "metadata": {},
   "outputs": [],
   "source": [
    "%run lib.ipynb"
   ]
  },
  {
   "cell_type": "code",
   "execution_count": 4,
   "id": "9380d8a4",
   "metadata": {},
   "outputs": [],
   "source": [
    "def Runge_kutta(d2ydx2, dydx, x0, y0, z0, xn, h):\n",
    "    x = []   # y(x0) = y0 & dy/dx(x0) = z0\n",
    "            #z = dy/dx\n",
    "    y = []\n",
    "    z = []\n",
    "    x.append(x0)\n",
    "    y.append(y0)\n",
    "    z.append(z0)\n",
    "    \n",
    "    N = int((xn-x0)/h)# steps\n",
    "    \n",
    "    for i in range(N):\n",
    "        x.append(x[i] + h)\n",
    "        k1 = h * dydx(x[i], y[i], z[i])\n",
    "        l1 = h * d2ydx2(x[i], y[i], z[i])\n",
    "        k2 = h * dydx(x[i] + h/2, y[i] + k1/2, z[i] + l1/2)\n",
    "        l2 = h * d2ydx2(x[i] + h/2, y[i] + k1/2, z[i] + l1/2)\n",
    "        k3 = h * dydx(x[i] + h/2, y[i] + k2/2, z[i] + l2/2)\n",
    "        l3 = h * d2ydx2(x[i] + h/2, y[i] + k2/2, z[i] + l2/2)\n",
    "        k4 = h * dydx(x[i] + h, y[i] + k3, z[i] + l3)\n",
    "        l4 = h * d2ydx2(x[i] + h, y[i] + k3, z[i] + l3)\n",
    "        y.append(y[i] + (k1 + 2*k2 + 2*k3 + k4)/6)\n",
    "        z.append(z[i] + (l1 + 2*l2 + 2*l3 + l4)/6)\n",
    "        \n",
    "    return x, y, z"
   ]
  },
  {
   "cell_type": "code",
   "execution_count": 5,
   "id": "cc2e5128",
   "metadata": {},
   "outputs": [
    {
     "data": {
      "image/png": "[encoded data removed]",
      "text/plain": [
       "<Figure size 432x288 with 1 Axes>"
      ]
     },
     "metadata": {
      "needs_background": "light"
     },
     "output_type": "display_data"
    }
   ],
   "source": [
    "import numpy as np\n",
    "import matplotlib.pyplot as plt\n",
    "#Q2\n",
    "def dydx(x,y,z):\n",
    "    return z\n",
    "def d2ydx2(x,y,z):\n",
    "    return 1-x-z\n",
    "\n",
    "sol_0to5  = Runge_kutta(d2ydx2,dydx,0,2,1,5,0.005)\n",
    "sol_negative5to0 = Runge_kutta(d2ydx2,dydx,0,2,1,-5,-0.005)\n",
    "\n",
    "x = np.arange(-5,5,0.01)\n",
    "y = 1 + np.exp(-x)-x**2/2+2*x\n",
    "plt.plot(x,y,\"r--\",label='exact soln')\n",
    "plt.plot(sol_0to5[0],sol_0to5[1],\"g-\")\n",
    "plt.plot(sol_negative5to0[0],sol_negative5to0[1],\"r--\")\n",
    "plt.legend()\n",
    "plt.show()"
   ]
  }
 ],
 "metadata": {
  "kernelspec": {
   "display_name": "Python 3",
   "language": "python",
   "name": "python3"
  },
  "language_info": {
   "codemirror_mode": {
    "name": "ipython",
    "version": 3
   },
   "file_extension": ".py",
   "mimetype": "text/x-python",
   "name": "python",
   "nbconvert_exporter": "python",
   "pygments_lexer": "ipython3",
   "version": "3.8.8"
  }
 },
 "nbformat": 4,
 "nbformat_minor": 5
}
